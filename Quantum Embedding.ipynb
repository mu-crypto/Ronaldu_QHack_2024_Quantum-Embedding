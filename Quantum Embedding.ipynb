{
  "cells": [
    {
      "cell_type": "markdown",
      "metadata": {
        "colab_type": "text",
        "id": "view-in-github"
      },
      "source": [
        "<a href=\"https://colab.research.google.com/github/BrainConnection/Qiskit/blob/main/Open%20Hackathon.ipynb\" target=\"_parent\"><img src=\"https://colab.research.google.com/assets/colab-badge.svg\" alt=\"Open In Colab\"/></a>"
      ]
    },
    {
      "cell_type": "markdown",
      "metadata": {
        "id": "WI5rc7eh0kUP"
      },
      "source": [
        "# Environment Setup"
      ]
    },
    {
      "cell_type": "code",
      "execution_count": 3,
      "metadata": {
        "colab": {
          "base_uri": "https://localhost:8080/"
        },
        "id": "hUZb8cJjzk7e",
        "outputId": "d2b46062-56b8-403a-d926-23830b5bb883"
      },
      "outputs": [],
      "source": [
        "import pennylane as qml\n",
        "import pennylane.numpy as np\n",
        "from qiskit_aer.noise import (NoiseModel, QuantumError, ReadoutError,\n",
        "    pauli_error, depolarizing_error, thermal_relaxation_error)\n",
        "import qiskit_aer.noise as noise\n",
        "import qiskit"
      ]
    },
    {
      "cell_type": "code",
      "execution_count": 4,
      "metadata": {},
      "outputs": [],
      "source": [
        "x = np.array([1,2,3,4,5,6,7])\n",
        "x_norm =x/np.linalg.norm(x)\n",
        "x_density = np.outer(x_norm,x_norm)\n",
        "N = np.shape(x)[0]\n",
        "num_qubits = (int)(np.log2(N))\n",
        "\n",
        "dev1 = qml.device(\"default.qubit\", wires=range(num_qubits+1))\n",
        "dev2 = qml.device(\"default.mixed\",wires=range(num_qubits+1))"
      ]
    },
    {
      "cell_type": "code",
      "execution_count": 286,
      "metadata": {},
      "outputs": [],
      "source": [
        "def binary_encode(num):\n",
        "\n",
        "    lst = []\n",
        "\n",
        "    for i in range(num_qubits):\n",
        "      lst.append(num % 2)\n",
        "      num = num // 2\n",
        "\n",
        "    lst.reverse()\n",
        "\n",
        "    return lst"
      ]
    },
    {
      "cell_type": "markdown",
      "metadata": {
        "id": "9WgcPRpV0tI-"
      },
      "source": [
        "## 1) Real Data Amplitude Embedding (Method 1)"
      ]
    },
    {
      "cell_type": "code",
      "execution_count": 287,
      "metadata": {
        "id": "Mfd5mrJW0sh4"
      },
      "outputs": [],
      "source": [
        "def preparing_for_battle_1(x,p,type, dev):\n",
        "  \"\"\"\n",
        "  Conduct Amplitude Embdding\n",
        "\n",
        "  Args\n",
        "    - x (numpy.tensor): A length-N vector\n",
        "\n",
        "  Returns\n",
        "    - state (qml.measurements.StateMP): Embedded state\n",
        "  \"\"\"\n",
        "\n",
        "  x = x/np.linalg.norm(x)\n",
        "\n",
        "  def error(p,type = 1):\n",
        "    if type == 1:\n",
        "      for i in range(num_qubits+1):\n",
        "        qml.BitFlip(p,i)\n",
        "    elif type == 2:\n",
        "      for i in range(num_qubits+1):\n",
        "        qml.PhaseFlip(p,i)\n",
        "    elif type ==3:\n",
        "      qml.DepolarizingChannel(p,range(num_qubits+1))\n",
        "    elif type == 4:\n",
        "      qml.PhaseDamping(p, range(num_qubits))\n",
        "    elif type ==5:\n",
        "      qml.AmplitudeDamping(p,range(num_qubits+1))\n",
        "\n",
        "\n",
        "  \n",
        "  @qml.qnode(dev)\n",
        "  def amplitude_embedding():\n",
        "\n",
        "\n",
        "    for i in range(num_qubits):\n",
        "      qml.Hadamard(i)\n",
        "\n",
        "    for i in range(N):\n",
        "      U = np.array([[x[i], -np.sqrt(1-x[i]**2)], [np.sqrt(1-x[i]**2), x[i]]])\n",
        "      qml.ControlledQubitUnitary(U, control_wires=range(num_qubits), wires=num_qubits, control_values=binary_encode(i))\n",
        "\n",
        "    \n",
        "    error(p,type)\n",
        "\n",
        "\n",
        "    qml.measure(num_qubits)\n",
        "\n",
        "    return qml.probs(range(num_qubits))\n",
        "\n",
        "\n",
        "  \n",
        "  #print(qml.draw(amplitude_embedding)())\n",
        "  #print()\n",
        "\n",
        "  return np.sqrt(amplitude_embedding())\n"
      ]
    },
    {
      "cell_type": "markdown",
      "metadata": {
        "id": "QlUfLDKC01Iw"
      },
      "source": [
        "## 2) Real Data Amplitude Embedding (Method 2)"
      ]
    },
    {
      "cell_type": "code",
      "execution_count": 289,
      "metadata": {
        "id": "uQxUgVGV0saA"
      },
      "outputs": [],
      "source": [
        "def preparing_for_battle_2(x,dev,verbose=False):\n",
        "  \"\"\"\n",
        "  Conduct Amplitude Embdding\n",
        "\n",
        "  Args\n",
        "    - x (numpy.tensor): a length-N vector\n",
        "\n",
        "  Returns\n",
        "    - state (qml.measurements.StateMP): Embedded state\n",
        "  \"\"\"\n",
        "\n",
        "  x = x/np.linalg.norm(x)\n",
        "  N = np.shape(x)[0]\n",
        "  num_qubits = (int)(np.log2(N))\n",
        "\n",
        "\n",
        "  def theta_generate(x):\n",
        "    y = []\n",
        "\n",
        "    for i in range(num_qubits):\n",
        "      lst = []\n",
        "\n",
        "      for j in range(2**(i+1)):\n",
        "        sum = 0\n",
        "\n",
        "        num = (int)(N/2**(i+1))\n",
        "        for k in range(j*num, (j+1)*num, 1):\n",
        "          sum = sum + x[k]**2\n",
        "\n",
        "        lst.append(np.sqrt(sum))\n",
        "\n",
        "      y.append(lst)\n",
        "\n",
        "    theta = []\n",
        "\n",
        "    for i in range(num_qubits):\n",
        "      lst = []\n",
        "\n",
        "      if i==0:\n",
        "        lst.append(2*np.arccos(y[i][0]))\n",
        "\n",
        "      else:\n",
        "        for j in range(2**i):\n",
        "          lst.append(2*np.arccos(y[i][2*j]/y[i-1][j]))\n",
        "\n",
        "      theta.append(lst)\n",
        "\n",
        "    return theta\n",
        "\n",
        "\n",
        "  def control_generate(num_qubits):\n",
        "    control = []\n",
        "\n",
        "    for i in range(1, num_qubits):\n",
        "      lst_1 = []\n",
        "\n",
        "      for j in range(2**i):\n",
        "        lst_2 = []\n",
        "\n",
        "        num = j\n",
        "        for k in range(i):\n",
        "          lst_2.append(num % 2)\n",
        "          num = num // 2\n",
        "\n",
        "        lst_2.reverse()\n",
        "        lst_1.append(lst_2)\n",
        "\n",
        "      control.append(lst_1)\n",
        "\n",
        "    return control\n",
        "\n",
        "\n",
        "  @qml.qnode(dev)\n",
        "  def amplitude_embedding():\n",
        "\n",
        "    theta = theta_generate(x)\n",
        "    control_bit = control_generate(num_qubits)\n",
        "\n",
        "    qml.RY(theta[0][0],0)\n",
        "\n",
        "    for i in range(1, num_qubits, 1):\n",
        "      for j in range(2**i):\n",
        "        U = np.array([[np.cos(theta[i][j]/2), -np.sin(theta[i][j]/2)], [np.sin(theta[i][j]/2), np.cos(theta[i][j]/2)]])\n",
        "        qml.ControlledQubitUnitary(U, control_wires=range(i), wires=[i], control_values=control_bit[i-1][j])\n",
        "\n",
        "\n",
        "    return qml.probs(range(num_qubits))\n",
        "\n",
        "  if verbose:\n",
        "    print(qml.draw(amplitude_embedding)())\n",
        "    print()\n",
        "\n",
        "  return np.sqrt(amplitude_embedding())"
      ]
    },
    {
      "cell_type": "code",
      "execution_count": 290,
      "metadata": {},
      "outputs": [
        {
          "name": "stdout",
          "output_type": "stream",
          "text": [
            "0: ──RY(2.50)─╭○─────╭●─────┤ ╭Probs\n",
            "1: ───────────╰U(M0)─╰U(M1)─┤ ╰Probs\n",
            "\n",
            "M0 = \n",
            "[[ 0.26726124 -0.96362411]\n",
            " [ 0.96362411  0.26726124]]\n",
            "M1 = \n",
            "[[ 0.34188173 -0.93974299]\n",
            " [ 0.93974299  0.34188173]]\n",
            "\n"
          ]
        },
        {
          "data": {
            "text/plain": [
              "tensor([0.08451543, 0.3047247 , 0.32433749, 0.89151848], requires_grad=True)"
            ]
          },
          "execution_count": 290,
          "metadata": {},
          "output_type": "execute_result"
        }
      ],
      "source": [
        "preparing_for_battle_2(x,dev1,True)"
      ]
    },
    {
      "cell_type": "code",
      "execution_count": 210,
      "metadata": {},
      "outputs": [],
      "source": [
        "def simulate(x, p_list):\n",
        "    F_list = []\n",
        "    N = np.shape(x)[0]\n",
        "    num_qubits = (int)(np.log2(N))\n",
        "    for p in p_list:\n",
        "        bit_flip = pauli_error([('X', p), ('I', 1 - p)])\n",
        "        phase_flip = pauli_error([('Z', p), ('I', 1 - p)])\n",
        "        depolarizing = depolarizing_error(p, 1)\n",
        "        phase_damping = noise.phase_damping_error(p)\n",
        "        amplitude_damping = noise.amplitude_damping_error(p)\n",
        "\n",
        "        my_noise_model = NoiseModel()\n",
        "        #my_noise_model.add_all_qubit_quantum_error(bit_flip, [\"ry\",\"h\"])\n",
        "        #my_noise_model.add_all_qubit_quantum_error(phase_flip, [\"ry\",\"h\"])\n",
        "        #my_noise_model.add_all_qubit_quantum_error(depolarizing, ['ry'])\n",
        "        #my_noise_model.add_all_qubit_quantum_error(phase_damping, ['ry'])\n",
        "        my_noise_model.add_all_qubit_quantum_error(amplitude_damping, ['ry'])\n",
        "\n",
        "        dev = qml.device('qiskit.aer', wires=range(num_qubits+1), noise_model = my_noise_model)\n",
        " \n",
        "        x_noisy = preparing_for_battle_2(x,dev)\n",
        "        x_noisy_density = np.outer(x_noisy,x_noisy)\n",
        "        F = qml.math.fidelity(x_density,x_noisy_density)\n",
        "        F_list.append(F)\n",
        "    return F_list"
      ]
    },
    {
      "cell_type": "code",
      "execution_count": 211,
      "metadata": {},
      "outputs": [],
      "source": [
        "p_list = np.linspace(0.01,0.5,500)\n",
        "p_list = p_list.tolist()\n",
        "fidelities = simulate(x,p_list)\n"
      ]
    },
    {
      "cell_type": "code",
      "execution_count": 216,
      "metadata": {},
      "outputs": [
        {
          "data": {
            "text/plain": [
              "<matplotlib.legend.Legend at 0x1a2d0ff9390>"
            ]
          },
          "execution_count": 216,
          "metadata": {},
          "output_type": "execute_result"
        },
        {
          "data": {
            "image/png": "[encoded data removed]",
            "text/plain": [
              "<Figure size 640x480 with 1 Axes>"
            ]
          },
          "metadata": {},
          "output_type": "display_data"
        }
      ],
      "source": [
        "import matplotlib.pyplot as plt\n",
        "import scipy\n",
        "\n",
        "plt.plot(p_list,fidelities,label=\"Fidelity\")\n",
        "plt.title(\"Amplitude Damping Error\")\n",
        "plt.ylabel(\"Fidelity\")\n",
        "plt.xlabel(\"Error Rate\")\n",
        "\n",
        "def exp(x,a,b,c):\n",
        "    return a*np.exp(-b*x)+c\n",
        "\n",
        "popt, pcov  = scipy.optimize.curve_fit(exp,p_list,fidelities,maxfev=50000)\n",
        "\n",
        "plt.plot(p_list,exp(np.array(p_list),*popt),label=\"a*exp(-b*x)+c\" + \" \" + \"a =\" + f\"{round(popt[0],2)}\" + \" b =\" +  f\"{round(popt[1],2)}\" + \" \" +  \"c = \" +  f\"{round(popt[2],2)}\")\n",
        "plt.legend()\n"
      ]
    },
    {
      "cell_type": "code",
      "execution_count": 35,
      "metadata": {
        "colab": {
          "base_uri": "https://localhost:8080/"
        },
        "id": "7UA5g6zd0sH4",
        "outputId": "afbe4bf5-01c1-4b5f-f6df-7f9fd3a8b408"
      },
      "outputs": [
        {
          "name": "stdout",
          "output_type": "stream",
          "text": [
            "0: ──RY(2.35)─╭○─────╭●─────╭○─────╭○─────╭●─────╭●─────┤ ╭Probs\n",
            "1: ───────────╰U(M0)─╰U(M1)─├○─────├●─────├○─────├●─────┤ ├Probs\n",
            "2: ─────────────────────────╰U(M2)─╰U(M3)─╰U(M4)─╰U(M5)─┤ ╰Probs\n",
            "\n",
            "M0 = \n",
            "[[ 0.40824829 -0.91287093]\n",
            " [ 0.91287093  0.40824829]]\n",
            "M1 = \n",
            "[[ 0.5920935  -0.80586927]\n",
            " [ 0.80586927  0.5920935 ]]\n",
            "M2 = \n",
            "[[ 0.4472136  -0.89442719]\n",
            " [ 0.89442719  0.4472136 ]]\n",
            "M3 = \n",
            "[[ 0.6 -0.8]\n",
            " [ 0.8  0.6]]\n",
            "M4 = \n",
            "[[ 0.6401844  -0.76822128]\n",
            " [ 0.76822128  0.6401844 ]]\n",
            "M5 = \n",
            "[[ 0.65850461 -0.75257669]\n",
            " [ 0.75257669  0.65850461]]\n",
            "\n",
            "[0.070014   0.14002801 0.21004201 0.28005602 0.35007002 0.42008403\n",
            " 0.49009803 0.56011203]\n"
          ]
        }
      ],
      "source": [
        "print(preparing_for_battle_2(np.array([1,2,3,4,5,6,7,8])))"
      ]
    },
    {
      "cell_type": "markdown",
      "metadata": {},
      "source": [
        "# Utility Functions"
      ]
    },
    {
      "cell_type": "code",
      "execution_count": 7,
      "metadata": {},
      "outputs": [],
      "source": [
        "def generate_tree(N):\n",
        "    tree = []\n",
        "    count = 0\n",
        "    step = 0\n",
        "    while count < N:\n",
        "        tree.append(list(range(count, count+2**(step),1)))\n",
        "        count += 2**(step)\n",
        "        step +=1\n",
        "    return tree \n",
        "\n",
        "\n",
        "def obtain_parent(tree, target_index):\n",
        "    num, step = nearest_tree_num(target_index+1)\n",
        "    layer = step-1\n",
        "    position_index = tree[layer].index(target_index)\n",
        "    parent = tree[layer-1][int(np.ceil((position_index+1) / 2)) -1]\n",
        "    return parent\n",
        "    \n",
        "\n",
        "def rearrange_qubits(tree):\n",
        "    qubits = [0]*(tree[len(tree)-1][-1]+1)\n",
        "    for i in range(len(tree)):\n",
        "        temp = tree[len(tree)-i-1][::-1]\n",
        "        for j in range(len(temp)):\n",
        "            qubits[2**(i)+j*2**(i+1)-1] = temp[j]    \n",
        "    return qubits\n",
        "\n",
        "\n",
        "\n",
        "def nearest_tree_num(N):\n",
        "    num = 1\n",
        "    step = 1\n",
        "    while num < N:\n",
        "        num += 2**(step)\n",
        "        step +=1\n",
        "\n",
        "    return num, step    \n",
        "\n",
        "\n",
        "def obtain_child_index(tree,target_index):\n",
        "    child_indices =[]\n",
        "    _, step = nearest_tree_num(target_index+1)\n",
        "    layer = step-1\n",
        "    position_index = tree[layer].index(target_index)    \n",
        "    child_indices.append(tree[layer+1][2*(position_index+1)-2])\n",
        "    child_indices.append(tree[layer+1][2*(position_index+1)-1])\n",
        "    return child_indices\n",
        "\n",
        "def obtain_parent(tree, target_index):\n",
        "    _, step = nearest_tree_num(target_index+1)\n",
        "    layer = step-1\n",
        "    position_index = tree[layer].index(target_index)\n",
        "    parent = tree[layer-1][int(np.ceil((position_index+1) / 2)) -1]\n",
        "    return parent      \n",
        "\n"
      ]
    },
    {
      "cell_type": "markdown",
      "metadata": {
        "id": "Q5EaL34G05aX"
      },
      "source": [
        "## 3) Complex Data Amplitude Embedding (Method 1)"
      ]
    },
    {
      "cell_type": "code",
      "execution_count": 145,
      "metadata": {
        "id": "cd7krgYo05EX"
      },
      "outputs": [],
      "source": [
        "def preparing_for_battle_3(x,dev,verbose=False):\n",
        "  \"\"\"\n",
        "  Conduct Amplitude Embdding\n",
        "\n",
        "  Args\n",
        "    - x (numpy.tensor): a length-N vector\n",
        "\n",
        "  Returns\n",
        "    - state (qml.measurements.StateMP): Embedded state\n",
        "  \"\"\"\n",
        "\n",
        " \n",
        "\n",
        "  x = x/np.linalg.norm(x)\n",
        "  print(x)\n",
        "  N = np.shape(x)[0]\n",
        "  num_qubits = int(np.ceil(np.log2(N)))\n",
        "  x_temp = np.zeros(2**(num_qubits),dtype=complex)\n",
        "  x_temp[:N] = x\n",
        "\n",
        "\n",
        "\n",
        "  N_nearest = nearest_tree_num(N-1)[0]\n",
        "  tree = generate_tree((nearest_tree_num(N_nearest+1))[0])\n",
        "  qubits = rearrange_qubits(generate_tree(N_nearest)) \n",
        "  \n",
        "  \n",
        "\n",
        "  def gen_angles(x):\n",
        "    if len(x) > 1:\n",
        "      new_x = [0]*int(len(x)/2)\n",
        "      for k in range(len(new_x)):\n",
        "        new_x[k] = np.sqrt(abs(x[2*k])**2+abs(x[2*k+1])**2)\n",
        "      inner_angles = gen_angles(new_x)\n",
        "      angles = [0] * int(len(x)/2)\n",
        "      for k in range(len(new_x)):\n",
        "        if new_x[k] !=0:\n",
        "          if x[2*k]> 0:\n",
        "            angles[k] = 2*np.arcsin(x[2*k+1]/new_x[k])\n",
        "          else:\n",
        "            angles[k] = 2*np.pi - 2*np.arcsin(x[2*k+1]/new_x[k])\n",
        "        else:\n",
        "          angles[k] = 0\n",
        "\n",
        "      angles = angles + inner_angles\n",
        "    elif len(x) == 1:\n",
        "      angles = []\n",
        "\n",
        "    return angles\n",
        "  \n",
        "\n",
        "  def gen_angles_z(x):\n",
        "    if len(x) > 1:\n",
        "      new_x = [0]*int(len(x)/2)\n",
        "      \n",
        "      for k in range(len(new_x)):\n",
        "        new_x[k] = (x[2*k]+x[2*k+1])/2\n",
        "        \n",
        "    \n",
        "      inner_angles_z = gen_angles_z(new_x)  \n",
        "\n",
        "      angles_z = [0] * int(len(x)/2)\n",
        "      for k in range(len(new_x)):\n",
        "        angles_z[k] = (x[2*k+1]-x[2*k])\n",
        "        \n",
        "   \n",
        "      angles_z = inner_angles_z + angles_z\n",
        "\n",
        "    elif len(x) == 1:\n",
        "      angles_z = []\n",
        "    return angles_z\n",
        "\n",
        "\n",
        "  @qml.qnode(dev)\n",
        "  def amplitude_embedding():\n",
        "\n",
        "    angle = gen_angles(abs(x))\n",
        "\n",
        "    phases = np.angle(x)\n",
        "    \n",
        "    angle_z = gen_angles_z(phases)\n",
        "    \n",
        "\n",
        "    for k in range(len(angle)):\n",
        "      qml.RY(angle[k],qubits[k])\n",
        "\n",
        "    for k in range(len(angle_z)):\n",
        "      qml.RZ(angle_z[k],qubits[k])\n",
        "\n",
        "    \n",
        "    actual = obtain_parent(tree,N_nearest-1)\n",
        "    while actual >=0:\n",
        "      left_index = obtain_child_index(tree,actual)[0]\n",
        "      right_index = obtain_child_index(tree,actual)[1]    \n",
        "      while right_index < N_nearest:\n",
        "        qml.CSWAP([qubits.index(actual), qubits.index(left_index), qubits.index(right_index)])\n",
        "        left_index = obtain_child_index(tree,left_index)[0]\n",
        "        right_index = obtain_child_index(tree,right_index)[0]\n",
        "      actual = actual-1 \n",
        "    measure_qubits = [N_nearest-1]\n",
        "    tree_actual = generate_tree(N_nearest)\n",
        "    temp_index = N_nearest-1\n",
        "    for _ in range(len(tree_actual)-1):\n",
        "      temp_index = qubits.index(obtain_parent(tree_actual,qubits[temp_index]))    \n",
        "      measure_qubits.append(temp_index)\n",
        "    measure_qubits.reverse()\n",
        "    print(measure_qubits)\n",
        "    return qml.density_matrix(measure_qubits)\n",
        "  if verbose:\n",
        "    print(qml.draw(amplitude_embedding)())\n",
        "    print()\n",
        "  state = amplitude_embedding()\n",
        "  return state"
      ]
    },
    {
      "cell_type": "code",
      "execution_count": 146,
      "metadata": {},
      "outputs": [
        {
          "name": "stdout",
          "output_type": "stream",
          "text": [
            "[-0.13159718+0.28754509j  0.38729833+0.j          0.35355339+0.j\n",
            "  0.35355339+0.j          0.35355339+0.j          0.35355339+0.j\n",
            "  0.35355339+0.j          0.35355339+0.j        ]\n",
            "[3, 5, 6]\n",
            "0: ──RY(1.57)──RZ(-2.00)─╭SWAP─────────────┤       \n",
            "1: ──RY(1.57)──RZ(0.00)──├●────╭SWAP───────┤       \n",
            "2: ──RY(1.57)──RZ(-1.00)─╰SWAP─│─────╭SWAP─┤       \n",
            "3: ──RY(1.57)──RZ(0.00)────────├●────├●────┤ ╭State\n",
            "4: ──RY(1.57)──RZ(0.00)──╭SWAP─│─────│─────┤ │     \n",
            "5: ──RY(1.57)──RZ(0.00)──├●────╰SWAP─│─────┤ ├State\n",
            "6: ──RY(1.77)──RZ(-0.50)─╰SWAP───────╰SWAP─┤ ╰State\n",
            "\n",
            "[3, 5, 6]\n"
          ]
        },
        {
          "data": {
            "text/plain": [
              "0.9894427017137515"
            ]
          },
          "execution_count": 146,
          "metadata": {},
          "output_type": "execute_result"
        }
      ],
      "source": [
        "x = np.array([np.sqrt(0.1)*np.exp(2.0j),np.sqrt(0.15),np.sqrt(0.125),np.sqrt(0.125),np.sqrt(0.125),np.sqrt(0.125),np.sqrt(0.125),np.sqrt(0.125)])\n",
        "N = int(np.shape(x)[0])\n",
        "\n",
        "num_qubits = int(np.ceil(np.log2(N)))\n",
        "x_norm =x/np.linalg.norm(x)\n",
        "x_density = np.outer(x,x)\n",
        "dev3 = qml.device(\"default.qubit\",range(2**(num_qubits)))\n",
        "result = preparing_for_battle_3(x,dev3,True)\n",
        "qml.math.fidelity(result,x_density)"
      ]
    },
    {
      "cell_type": "markdown",
      "metadata": {},
      "source": []
    }
  ],
  "metadata": {
    "colab": {
      "authorship_tag": "ABX9TyPktRU2wMEbDjdr5uASL0ZA",
      "include_colab_link": true,
      "provenance": []
    },
    "kernelspec": {
      "display_name": "Python 3",
      "name": "python3"
    },
    "language_info": {
      "codemirror_mode": {
        "name": "ipython",
        "version": 3
      },
      "file_extension": ".py",
      "mimetype": "text/x-python",
      "name": "python",
      "nbconvert_exporter": "python",
      "pygments_lexer": "ipython3",
      "version": "3.11.0"
    }
  },
  "nbformat": 4,
  "nbformat_minor": 0
}
