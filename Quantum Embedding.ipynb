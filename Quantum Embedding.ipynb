{
  "nbformat": 4,
  "nbformat_minor": 0,
  "metadata": {
    "colab": {
      "provenance": [],
      "authorship_tag": "ABX9TyPktRU2wMEbDjdr5uASL0ZA",
      "include_colab_link": true
    },
    "kernelspec": {
      "name": "python3",
      "display_name": "Python 3"
    },
    "language_info": {
      "name": "python"
    }
  },
  "cells": [
    {
      "cell_type": "markdown",
      "metadata": {
        "id": "view-in-github",
        "colab_type": "text"
      },
      "source": [
        "<a href=\"https://colab.research.google.com/github/BrainConnection/Qiskit/blob/main/Open%20Hackathon.ipynb\" target=\"_parent\"><img src=\"https://colab.research.google.com/assets/colab-badge.svg\" alt=\"Open In Colab\"/></a>"
      ]
    },
    {
      "cell_type": "markdown",
      "source": [
        "# Environment Setting"
      ],
      "metadata": {
        "id": "WI5rc7eh0kUP"
      }
    },
    {
      "cell_type": "code",
      "execution_count": 2,
      "metadata": {
        "colab": {
          "base_uri": "https://localhost:8080/"
        },
        "id": "hUZb8cJjzk7e",
        "outputId": "d2b46062-56b8-403a-d926-23830b5bb883"
      },
      "outputs": [
        {
          "output_type": "stream",
          "name": "stdout",
          "text": [
            "Collecting pennylane\n",
            "  Downloading PennyLane-0.34.0-py3-none-any.whl (1.6 MB)\n",
            "\u001b[2K     \u001b[90m━━━━━━━━━━━━━━━━━━━━━━━━━━━━━━━━━━━━━━━━\u001b[0m \u001b[32m1.6/1.6 MB\u001b[0m \u001b[31m11.2 MB/s\u001b[0m eta \u001b[36m0:00:00\u001b[0m\n",
            "\u001b[?25hRequirement already satisfied: numpy in /usr/local/lib/python3.10/dist-packages (from pennylane) (1.25.2)\n",
            "Requirement already satisfied: scipy in /usr/local/lib/python3.10/dist-packages (from pennylane) (1.11.4)\n",
            "Requirement already satisfied: networkx in /usr/local/lib/python3.10/dist-packages (from pennylane) (3.2.1)\n",
            "Collecting rustworkx (from pennylane)\n",
            "  Downloading rustworkx-0.14.0-cp310-cp310-manylinux_2_17_x86_64.manylinux2014_x86_64.whl (2.2 MB)\n",
            "\u001b[2K     \u001b[90m━━━━━━━━━━━━━━━━━━━━━━━━━━━━━━━━━━━━━━━━\u001b[0m \u001b[32m2.2/2.2 MB\u001b[0m \u001b[31m23.4 MB/s\u001b[0m eta \u001b[36m0:00:00\u001b[0m\n",
            "\u001b[?25hRequirement already satisfied: autograd in /usr/local/lib/python3.10/dist-packages (from pennylane) (1.6.2)\n",
            "Requirement already satisfied: toml in /usr/local/lib/python3.10/dist-packages (from pennylane) (0.10.2)\n",
            "Requirement already satisfied: appdirs in /usr/local/lib/python3.10/dist-packages (from pennylane) (1.4.4)\n",
            "Collecting semantic-version>=2.7 (from pennylane)\n",
            "  Downloading semantic_version-2.10.0-py2.py3-none-any.whl (15 kB)\n",
            "Collecting autoray>=0.6.1 (from pennylane)\n",
            "  Downloading autoray-0.6.8-py3-none-any.whl (49 kB)\n",
            "\u001b[2K     \u001b[90m━━━━━━━━━━━━━━━━━━━━━━━━━━━━━━━━━━━━━━━━\u001b[0m \u001b[32m49.9/49.9 kB\u001b[0m \u001b[31m6.1 MB/s\u001b[0m eta \u001b[36m0:00:00\u001b[0m\n",
            "\u001b[?25hRequirement already satisfied: cachetools in /usr/local/lib/python3.10/dist-packages (from pennylane) (5.3.2)\n",
            "Collecting pennylane-lightning>=0.34 (from pennylane)\n",
            "  Downloading PennyLane_Lightning-0.34.0-cp310-cp310-manylinux_2_17_x86_64.manylinux2014_x86_64.whl (18.1 MB)\n",
            "\u001b[2K     \u001b[90m━━━━━━━━━━━━━━━━━━━━━━━━━━━━━━━━━━━━━━━━\u001b[0m \u001b[32m18.1/18.1 MB\u001b[0m \u001b[31m56.3 MB/s\u001b[0m eta \u001b[36m0:00:00\u001b[0m\n",
            "\u001b[?25hRequirement already satisfied: requests in /usr/local/lib/python3.10/dist-packages (from pennylane) (2.31.0)\n",
            "Requirement already satisfied: typing-extensions in /usr/local/lib/python3.10/dist-packages (from pennylane) (4.9.0)\n",
            "Requirement already satisfied: future>=0.15.2 in /usr/local/lib/python3.10/dist-packages (from autograd->pennylane) (0.18.3)\n",
            "Requirement already satisfied: charset-normalizer<4,>=2 in /usr/local/lib/python3.10/dist-packages (from requests->pennylane) (3.3.2)\n",
            "Requirement already satisfied: idna<4,>=2.5 in /usr/local/lib/python3.10/dist-packages (from requests->pennylane) (3.6)\n",
            "Requirement already satisfied: urllib3<3,>=1.21.1 in /usr/local/lib/python3.10/dist-packages (from requests->pennylane) (2.0.7)\n",
            "Requirement already satisfied: certifi>=2017.4.17 in /usr/local/lib/python3.10/dist-packages (from requests->pennylane) (2024.2.2)\n",
            "Installing collected packages: semantic-version, rustworkx, autoray, pennylane-lightning, pennylane\n",
            "Successfully installed autoray-0.6.8 pennylane-0.34.0 pennylane-lightning-0.34.0 rustworkx-0.14.0 semantic-version-2.10.0\n"
          ]
        }
      ],
      "source": [
        "!pip install pennylane\n",
        "\n",
        "import pennylane as qml\n",
        "import pennylane.numpy as np"
      ]
    },
    {
      "cell_type": "markdown",
      "source": [
        "# 3. Preparing for Battle"
      ],
      "metadata": {
        "id": "T-l5R_pC0o_e"
      }
    },
    {
      "cell_type": "markdown",
      "source": [
        "## 1) Real Data Amplitude Embedding (Method 1)"
      ],
      "metadata": {
        "id": "9WgcPRpV0tI-"
      }
    },
    {
      "cell_type": "code",
      "source": [
        "def preparing_for_battle_1(x):\n",
        "  \"\"\"\n",
        "  Conduct Amplitude Embdding\n",
        "\n",
        "  Args\n",
        "    - x (numpy.tensor): a length-N vector\n",
        "\n",
        "  Returns\n",
        "    - state (qml.measurements.StateMP): Embedded state\n",
        "  \"\"\"\n",
        "\n",
        "  x = x/np.linalg.norm(x)\n",
        "  N = np.shape(x)[0]\n",
        "  num_qubits = (int)(np.log2(N))\n",
        "\n",
        "\n",
        "  def binary_encode(num):\n",
        "\n",
        "    lst = []\n",
        "\n",
        "    for i in range(num_qubits):\n",
        "      lst.append(num % 2)\n",
        "      num = num // 2\n",
        "\n",
        "    lst.reverse()\n",
        "\n",
        "    return lst\n",
        "\n",
        "\n",
        "  dev = qml.device(\"default.qubit\", wires=range(num_qubits+1))\n",
        "  @qml.qnode(dev)\n",
        "  def amplitude_embedding():\n",
        "\n",
        "    for i in range(num_qubits):\n",
        "      qml.Hadamard(i)\n",
        "\n",
        "    for i in range(N):\n",
        "      U = np.array([[x[i], -np.sqrt(1-x[i]**2)], [np.sqrt(1-x[i]**2), x[i]]])\n",
        "      qml.ControlledQubitUnitary(U, control_wires=range(num_qubits), wires=num_qubits, control_values=binary_encode(i))\n",
        "\n",
        "    qml.measure(num_qubits, postselect=0)\n",
        "\n",
        "    return qml.probs(range(num_qubits))\n",
        "\n",
        "\n",
        "  print(qml.draw(amplitude_embedding)())\n",
        "  print()\n",
        "\n",
        "  return np.sqrt(amplitude_embedding())\n"
      ],
      "metadata": {
        "id": "Mfd5mrJW0sh4"
      },
      "execution_count": 20,
      "outputs": []
    },
    {
      "cell_type": "code",
      "source": [
        "print(preparing_for_battle_1(np.array([1,2,3,4,5,6,7,8])))"
      ],
      "metadata": {
        "colab": {
          "base_uri": "https://localhost:8080/"
        },
        "id": "enxY-ck84qdy",
        "outputId": "bffcfa79-3a44-4944-a5e8-c296ca7822d7"
      },
      "execution_count": 21,
      "outputs": [
        {
          "output_type": "stream",
          "name": "stdout",
          "text": [
            "0: ──H─╭○─────╭○─────╭○─────╭○─────╭●─────╭●─────╭●─────╭●───────────┤ ╭Probs\n",
            "1: ──H─├○─────├○─────├●─────├●─────├○─────├○─────├●─────├●───────────┤ ├Probs\n",
            "2: ──H─├○─────├●─────├○─────├●─────├○─────├●─────├○─────├●───────────┤ ╰Probs\n",
            "3: ────╰U(M0)─╰U(M1)─╰U(M2)─╰U(M3)─╰U(M4)─╰U(M5)─╰U(M6)─╰U(M7)──┤↗₀├─┤       \n",
            "\n",
            "M0 = \n",
            "[[ 0.070014   -0.99754601]\n",
            " [ 0.99754601  0.070014  ]]\n",
            "M1 = \n",
            "[[ 0.14002801 -0.99014754]\n",
            " [ 0.99014754  0.14002801]]\n",
            "M2 = \n",
            "[[ 0.21004201 -0.97769236]\n",
            " [ 0.97769236  0.21004201]]\n",
            "M3 = \n",
            "[[ 0.28005602 -0.95998366]\n",
            " [ 0.95998366  0.28005602]]\n",
            "M4 = \n",
            "[[ 0.35007002 -0.93672353]\n",
            " [ 0.93672353  0.35007002]]\n",
            "M5 = \n",
            "[[ 0.42008403 -0.90748521]\n",
            " [ 0.90748521  0.42008403]]\n",
            "M6 = \n",
            "[[ 0.49009803 -0.87166732]\n",
            " [ 0.87166732  0.49009803]]\n",
            "M7 = \n",
            "[[ 0.56011203 -0.82841687]\n",
            " [ 0.82841687  0.56011203]]\n",
            "\n",
            "[0.070014   0.14002801 0.21004201 0.28005602 0.35007002 0.42008403\n",
            " 0.49009803 0.56011203]\n"
          ]
        }
      ]
    },
    {
      "cell_type": "markdown",
      "source": [
        "## 2) Real Data Amplitude Embedding (Method 2)"
      ],
      "metadata": {
        "id": "QlUfLDKC01Iw"
      }
    },
    {
      "cell_type": "code",
      "source": [
        "def preparing_for_battle_2(x):\n",
        "  \"\"\"\n",
        "  Conduct Amplitude Embdding\n",
        "\n",
        "  Args\n",
        "    - x (numpy.tensor): a length-N vector\n",
        "\n",
        "  Returns\n",
        "    - state (qml.measurements.StateMP): Embedded state\n",
        "  \"\"\"\n",
        "\n",
        "  x = x/np.linalg.norm(x)\n",
        "  N = np.shape(x)[0]\n",
        "  num_qubits = (int)(np.log2(N))\n",
        "\n",
        "\n",
        "  def theta_generate(x):\n",
        "    y = []\n",
        "\n",
        "    for i in range(num_qubits):\n",
        "      lst = []\n",
        "\n",
        "      for j in range(2**(i+1)):\n",
        "        sum = 0\n",
        "\n",
        "        num = (int)(N/2**(i+1))\n",
        "        for k in range(j*num, (j+1)*num, 1):\n",
        "          sum = sum + x[k]**2\n",
        "\n",
        "        lst.append(np.sqrt(sum))\n",
        "\n",
        "      y.append(lst)\n",
        "\n",
        "    theta = []\n",
        "\n",
        "    for i in range(num_qubits):\n",
        "      lst = []\n",
        "\n",
        "      if i==0:\n",
        "        lst.append(2*np.arccos(y[i][0]))\n",
        "\n",
        "      else:\n",
        "        for j in range(2**i):\n",
        "          lst.append(2*np.arccos(y[i][2*j]/y[i-1][j]))\n",
        "\n",
        "      theta.append(lst)\n",
        "\n",
        "    return theta\n",
        "\n",
        "\n",
        "  def control_generate(num_qubits):\n",
        "    control = []\n",
        "\n",
        "    for i in range(1, num_qubits):\n",
        "      lst_1 = []\n",
        "\n",
        "      for j in range(2**i):\n",
        "        lst_2 = []\n",
        "\n",
        "        num = j\n",
        "        for k in range(i):\n",
        "          lst_2.append(num % 2)\n",
        "          num = num // 2\n",
        "\n",
        "        lst_2.reverse()\n",
        "        lst_1.append(lst_2)\n",
        "\n",
        "      control.append(lst_1)\n",
        "\n",
        "    return control\n",
        "\n",
        "\n",
        "  dev = qml.device(\"default.qubit\", wires=range(num_qubits+1))\n",
        "  @qml.qnode(dev)\n",
        "  def amplitude_embedding():\n",
        "\n",
        "    theta = theta_generate(x)\n",
        "    control_bit = control_generate(num_qubits)\n",
        "\n",
        "    qml.RY(theta[0][0],0)\n",
        "\n",
        "    for i in range(1, num_qubits, 1):\n",
        "      for j in range(2**i):\n",
        "        U = np.array([[np.cos(theta[i][j]/2), -np.sin(theta[i][j]/2)], [np.sin(theta[i][j]/2), np.cos(theta[i][j]/2)]])\n",
        "        qml.ControlledQubitUnitary(U, control_wires=range(i), wires=[i], control_values=control_bit[i-1][j])\n",
        "\n",
        "\n",
        "    return qml.probs(range(num_qubits))\n",
        "\n",
        "\n",
        "  print(qml.draw(amplitude_embedding)())\n",
        "  print()\n",
        "\n",
        "  return np.sqrt(amplitude_embedding())"
      ],
      "metadata": {
        "id": "uQxUgVGV0saA"
      },
      "execution_count": 31,
      "outputs": []
    },
    {
      "cell_type": "code",
      "source": [
        "print(preparing_for_battle_2(np.array([1,2,3,4,5,6,7,8])))"
      ],
      "metadata": {
        "colab": {
          "base_uri": "https://localhost:8080/"
        },
        "id": "7UA5g6zd0sH4",
        "outputId": "afbe4bf5-01c1-4b5f-f6df-7f9fd3a8b408"
      },
      "execution_count": 35,
      "outputs": [
        {
          "output_type": "stream",
          "name": "stdout",
          "text": [
            "0: ──RY(2.35)─╭○─────╭●─────╭○─────╭○─────╭●─────╭●─────┤ ╭Probs\n",
            "1: ───────────╰U(M0)─╰U(M1)─├○─────├●─────├○─────├●─────┤ ├Probs\n",
            "2: ─────────────────────────╰U(M2)─╰U(M3)─╰U(M4)─╰U(M5)─┤ ╰Probs\n",
            "\n",
            "M0 = \n",
            "[[ 0.40824829 -0.91287093]\n",
            " [ 0.91287093  0.40824829]]\n",
            "M1 = \n",
            "[[ 0.5920935  -0.80586927]\n",
            " [ 0.80586927  0.5920935 ]]\n",
            "M2 = \n",
            "[[ 0.4472136  -0.89442719]\n",
            " [ 0.89442719  0.4472136 ]]\n",
            "M3 = \n",
            "[[ 0.6 -0.8]\n",
            " [ 0.8  0.6]]\n",
            "M4 = \n",
            "[[ 0.6401844  -0.76822128]\n",
            " [ 0.76822128  0.6401844 ]]\n",
            "M5 = \n",
            "[[ 0.65850461 -0.75257669]\n",
            " [ 0.75257669  0.65850461]]\n",
            "\n",
            "[0.070014   0.14002801 0.21004201 0.28005602 0.35007002 0.42008403\n",
            " 0.49009803 0.56011203]\n"
          ]
        }
      ]
    },
    {
      "cell_type": "markdown",
      "source": [
        "## 3) Complex Data Amplitude Embedding (Method 1)"
      ],
      "metadata": {
        "id": "Q5EaL34G05aX"
      }
    },
    {
      "cell_type": "code",
      "source": [],
      "metadata": {
        "id": "cd7krgYo05EX"
      },
      "execution_count": null,
      "outputs": []
    }
  ]
}